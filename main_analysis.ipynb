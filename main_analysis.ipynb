{
 "cells": [
  {
   "cell_type": "code",
   "execution_count": 6,
   "metadata": {},
   "outputs": [],
   "source": [
    "import pandas as pd\n",
    "\n",
    "# NO Redes de neuronas, No SVM, No arboles de decisión.\n",
    "# SI algoritmos sencillos: Primeros vecinos KNN"
   ]
  },
  {
   "cell_type": "markdown",
   "metadata": {},
   "source": [
    "- Visualización de datos\n",
    "\n",
    "<font color='gray'>*Data Visualization*</font>\n"
   ]
  },
  {
   "cell_type": "code",
   "execution_count": 7,
   "metadata": {},
   "outputs": [
    {
     "data": {
      "text/html": [
       "<div>\n",
       "<style scoped>\n",
       "    .dataframe tbody tr th:only-of-type {\n",
       "        vertical-align: middle;\n",
       "    }\n",
       "\n",
       "    .dataframe tbody tr th {\n",
       "        vertical-align: top;\n",
       "    }\n",
       "\n",
       "    .dataframe thead th {\n",
       "        text-align: right;\n",
       "    }\n",
       "</style>\n",
       "<table border=\"1\" class=\"dataframe\">\n",
       "  <thead>\n",
       "    <tr style=\"text-align: right;\">\n",
       "      <th></th>\n",
       "      <th>#edad</th>\n",
       "      <th>años estudio</th>\n",
       "      <th>ciudad residencia</th>\n",
       "      <th>no. peliculas vistas año pasado</th>\n",
       "      <th>Acción</th>\n",
       "      <th>Drama</th>\n",
       "      <th>Romance</th>\n",
       "      <th>Ciencia ficción</th>\n",
       "      <th>Histórica</th>\n",
       "    </tr>\n",
       "  </thead>\n",
       "  <tbody>\n",
       "    <tr>\n",
       "      <th>0</th>\n",
       "      <td>92</td>\n",
       "      <td>18</td>\n",
       "      <td>16</td>\n",
       "      <td>38</td>\n",
       "      <td>1</td>\n",
       "      <td>4</td>\n",
       "      <td>2</td>\n",
       "      <td>0</td>\n",
       "      <td>4</td>\n",
       "    </tr>\n",
       "    <tr>\n",
       "      <th>1</th>\n",
       "      <td>24</td>\n",
       "      <td>14</td>\n",
       "      <td>41</td>\n",
       "      <td>49</td>\n",
       "      <td>3</td>\n",
       "      <td>3</td>\n",
       "      <td>3</td>\n",
       "      <td>3</td>\n",
       "      <td>3</td>\n",
       "    </tr>\n",
       "    <tr>\n",
       "      <th>2</th>\n",
       "      <td>51</td>\n",
       "      <td>25</td>\n",
       "      <td>41</td>\n",
       "      <td>46</td>\n",
       "      <td>3</td>\n",
       "      <td>2</td>\n",
       "      <td>3</td>\n",
       "      <td>3</td>\n",
       "      <td>4</td>\n",
       "    </tr>\n",
       "    <tr>\n",
       "      <th>3</th>\n",
       "      <td>91</td>\n",
       "      <td>23</td>\n",
       "      <td>23</td>\n",
       "      <td>46</td>\n",
       "      <td>1</td>\n",
       "      <td>4</td>\n",
       "      <td>2</td>\n",
       "      <td>1</td>\n",
       "      <td>4</td>\n",
       "    </tr>\n",
       "    <tr>\n",
       "      <th>4</th>\n",
       "      <td>28</td>\n",
       "      <td>19</td>\n",
       "      <td>7</td>\n",
       "      <td>36</td>\n",
       "      <td>3</td>\n",
       "      <td>3</td>\n",
       "      <td>3</td>\n",
       "      <td>3</td>\n",
       "      <td>3</td>\n",
       "    </tr>\n",
       "    <tr>\n",
       "      <th>...</th>\n",
       "      <td>...</td>\n",
       "      <td>...</td>\n",
       "      <td>...</td>\n",
       "      <td>...</td>\n",
       "      <td>...</td>\n",
       "      <td>...</td>\n",
       "      <td>...</td>\n",
       "      <td>...</td>\n",
       "      <td>...</td>\n",
       "    </tr>\n",
       "    <tr>\n",
       "      <th>1802</th>\n",
       "      <td>22</td>\n",
       "      <td>18</td>\n",
       "      <td>35</td>\n",
       "      <td>43</td>\n",
       "      <td>3</td>\n",
       "      <td>3</td>\n",
       "      <td>3</td>\n",
       "      <td>3</td>\n",
       "      <td>3</td>\n",
       "    </tr>\n",
       "    <tr>\n",
       "      <th>1803</th>\n",
       "      <td>37</td>\n",
       "      <td>11</td>\n",
       "      <td>44</td>\n",
       "      <td>5</td>\n",
       "      <td>3</td>\n",
       "      <td>3</td>\n",
       "      <td>3</td>\n",
       "      <td>3</td>\n",
       "      <td>3</td>\n",
       "    </tr>\n",
       "    <tr>\n",
       "      <th>1804</th>\n",
       "      <td>27</td>\n",
       "      <td>13</td>\n",
       "      <td>26</td>\n",
       "      <td>12</td>\n",
       "      <td>3</td>\n",
       "      <td>3</td>\n",
       "      <td>3</td>\n",
       "      <td>3</td>\n",
       "      <td>3</td>\n",
       "    </tr>\n",
       "    <tr>\n",
       "      <th>1805</th>\n",
       "      <td>38</td>\n",
       "      <td>12</td>\n",
       "      <td>38</td>\n",
       "      <td>37</td>\n",
       "      <td>3</td>\n",
       "      <td>3</td>\n",
       "      <td>3</td>\n",
       "      <td>3</td>\n",
       "      <td>3</td>\n",
       "    </tr>\n",
       "    <tr>\n",
       "      <th>1806</th>\n",
       "      <td>71</td>\n",
       "      <td>9</td>\n",
       "      <td>35</td>\n",
       "      <td>63</td>\n",
       "      <td>1</td>\n",
       "      <td>4</td>\n",
       "      <td>1</td>\n",
       "      <td>1</td>\n",
       "      <td>2</td>\n",
       "    </tr>\n",
       "  </tbody>\n",
       "</table>\n",
       "<p>1807 rows × 9 columns</p>\n",
       "</div>"
      ],
      "text/plain": [
       "      #edad  años estudio  ciudad residencia  no. peliculas vistas año pasado  \\\n",
       "0        92            18                 16                               38   \n",
       "1        24            14                 41                               49   \n",
       "2        51            25                 41                               46   \n",
       "3        91            23                 23                               46   \n",
       "4        28            19                  7                               36   \n",
       "...     ...           ...                ...                              ...   \n",
       "1802     22            18                 35                               43   \n",
       "1803     37            11                 44                                5   \n",
       "1804     27            13                 26                               12   \n",
       "1805     38            12                 38                               37   \n",
       "1806     71             9                 35                               63   \n",
       "\n",
       "      Acción  Drama  Romance  Ciencia ficción  Histórica  \n",
       "0          1      4        2                0          4  \n",
       "1          3      3        3                3          3  \n",
       "2          3      2        3                3          4  \n",
       "3          1      4        2                1          4  \n",
       "4          3      3        3                3          3  \n",
       "...      ...    ...      ...              ...        ...  \n",
       "1802       3      3        3                3          3  \n",
       "1803       3      3        3                3          3  \n",
       "1804       3      3        3                3          3  \n",
       "1805       3      3        3                3          3  \n",
       "1806       1      4        1                1          2  \n",
       "\n",
       "[1807 rows x 9 columns]"
      ]
     },
     "execution_count": 7,
     "metadata": {},
     "output_type": "execute_result"
    }
   ],
   "source": [
    "path = 'datasets/peliculas_a.csv'\n",
    "peliculas_df = pd.read_csv(path)\n",
    "peliculas_df"
   ]
  },
  {
   "cell_type": "code",
   "execution_count": 5,
   "metadata": {},
   "outputs": [
    {
     "name": "stdout",
     "output_type": "stream",
     "text": [
      "\\begin{tabular}{lrrrrrrrrr}\n",
      "\\toprule\n",
      " & #edad & años estudio & ciudad residencia & no. peliculas vistas año pasado & Acción & Drama & Romance & Ciencia ficción & Histórica \\\\\n",
      "\\midrule\n",
      "0 & 92 & 18 & 16 & 38 & 1 & 4 & 2 & 0 & 4 \\\\\n",
      "1 & 24 & 14 & 41 & 49 & 3 & 3 & 3 & 3 & 3 \\\\\n",
      "2 & 51 & 25 & 41 & 46 & 3 & 2 & 3 & 3 & 4 \\\\\n",
      "3 & 91 & 23 & 23 & 46 & 1 & 4 & 2 & 1 & 4 \\\\\n",
      "4 & 28 & 19 & 7 & 36 & 3 & 3 & 3 & 3 & 3 \\\\\n",
      "\\bottomrule\n",
      "\\end{tabular}\n",
      "\n"
     ]
    }
   ],
   "source": [
    "print(peliculas_df.head(5).to_latex())"
   ]
  },
  {
   "cell_type": "code",
   "execution_count": 4,
   "metadata": {},
   "outputs": [
    {
     "data": {
      "text/html": [
       "<div>\n",
       "<style scoped>\n",
       "    .dataframe tbody tr th:only-of-type {\n",
       "        vertical-align: middle;\n",
       "    }\n",
       "\n",
       "    .dataframe tbody tr th {\n",
       "        vertical-align: top;\n",
       "    }\n",
       "\n",
       "    .dataframe thead th {\n",
       "        text-align: right;\n",
       "    }\n",
       "</style>\n",
       "<table border=\"1\" class=\"dataframe\">\n",
       "  <thead>\n",
       "    <tr style=\"text-align: right;\">\n",
       "      <th></th>\n",
       "      <th>#edad</th>\n",
       "      <th>años estudio</th>\n",
       "      <th>ciudad residencia</th>\n",
       "      <th>no. peliculas vistas año pasado</th>\n",
       "      <th>Acción</th>\n",
       "      <th>Drama</th>\n",
       "      <th>Romance</th>\n",
       "      <th>Ciencia ficción</th>\n",
       "      <th>Histórica</th>\n",
       "    </tr>\n",
       "  </thead>\n",
       "  <tbody>\n",
       "    <tr>\n",
       "      <th>count</th>\n",
       "      <td>1807.000000</td>\n",
       "      <td>1807.000000</td>\n",
       "      <td>1807.000000</td>\n",
       "      <td>1807.000000</td>\n",
       "      <td>1807.000000</td>\n",
       "      <td>1807.000000</td>\n",
       "      <td>1807.000000</td>\n",
       "      <td>1807.000000</td>\n",
       "      <td>1807.000000</td>\n",
       "    </tr>\n",
       "    <tr>\n",
       "      <th>mean</th>\n",
       "      <td>56.866076</td>\n",
       "      <td>15.250138</td>\n",
       "      <td>25.152739</td>\n",
       "      <td>32.874377</td>\n",
       "      <td>2.002214</td>\n",
       "      <td>2.970116</td>\n",
       "      <td>2.792474</td>\n",
       "      <td>2.309353</td>\n",
       "      <td>3.048700</td>\n",
       "    </tr>\n",
       "    <tr>\n",
       "      <th>std</th>\n",
       "      <td>23.425592</td>\n",
       "      <td>5.104389</td>\n",
       "      <td>14.167637</td>\n",
       "      <td>18.317226</td>\n",
       "      <td>1.259733</td>\n",
       "      <td>0.647162</td>\n",
       "      <td>0.752691</td>\n",
       "      <td>1.242936</td>\n",
       "      <td>0.899648</td>\n",
       "    </tr>\n",
       "    <tr>\n",
       "      <th>min</th>\n",
       "      <td>16.000000</td>\n",
       "      <td>6.000000</td>\n",
       "      <td>1.000000</td>\n",
       "      <td>1.000000</td>\n",
       "      <td>0.000000</td>\n",
       "      <td>2.000000</td>\n",
       "      <td>1.000000</td>\n",
       "      <td>0.000000</td>\n",
       "      <td>1.000000</td>\n",
       "    </tr>\n",
       "    <tr>\n",
       "      <th>25%</th>\n",
       "      <td>37.000000</td>\n",
       "      <td>11.000000</td>\n",
       "      <td>13.000000</td>\n",
       "      <td>17.000000</td>\n",
       "      <td>1.000000</td>\n",
       "      <td>3.000000</td>\n",
       "      <td>3.000000</td>\n",
       "      <td>1.000000</td>\n",
       "      <td>3.000000</td>\n",
       "    </tr>\n",
       "    <tr>\n",
       "      <th>50%</th>\n",
       "      <td>57.000000</td>\n",
       "      <td>15.000000</td>\n",
       "      <td>25.000000</td>\n",
       "      <td>33.000000</td>\n",
       "      <td>3.000000</td>\n",
       "      <td>3.000000</td>\n",
       "      <td>3.000000</td>\n",
       "      <td>3.000000</td>\n",
       "      <td>3.000000</td>\n",
       "    </tr>\n",
       "    <tr>\n",
       "      <th>75%</th>\n",
       "      <td>77.000000</td>\n",
       "      <td>19.000000</td>\n",
       "      <td>38.000000</td>\n",
       "      <td>49.000000</td>\n",
       "      <td>3.000000</td>\n",
       "      <td>3.000000</td>\n",
       "      <td>3.000000</td>\n",
       "      <td>3.000000</td>\n",
       "      <td>4.000000</td>\n",
       "    </tr>\n",
       "    <tr>\n",
       "      <th>max</th>\n",
       "      <td>98.000000</td>\n",
       "      <td>26.000000</td>\n",
       "      <td>49.000000</td>\n",
       "      <td>64.000000</td>\n",
       "      <td>3.000000</td>\n",
       "      <td>4.000000</td>\n",
       "      <td>4.000000</td>\n",
       "      <td>4.000000</td>\n",
       "      <td>5.000000</td>\n",
       "    </tr>\n",
       "  </tbody>\n",
       "</table>\n",
       "</div>"
      ],
      "text/plain": [
       "             #edad  años estudio  ciudad residencia  \\\n",
       "count  1807.000000   1807.000000        1807.000000   \n",
       "mean     56.866076     15.250138          25.152739   \n",
       "std      23.425592      5.104389          14.167637   \n",
       "min      16.000000      6.000000           1.000000   \n",
       "25%      37.000000     11.000000          13.000000   \n",
       "50%      57.000000     15.000000          25.000000   \n",
       "75%      77.000000     19.000000          38.000000   \n",
       "max      98.000000     26.000000          49.000000   \n",
       "\n",
       "       no. peliculas vistas año pasado       Acción        Drama      Romance  \\\n",
       "count                      1807.000000  1807.000000  1807.000000  1807.000000   \n",
       "mean                         32.874377     2.002214     2.970116     2.792474   \n",
       "std                          18.317226     1.259733     0.647162     0.752691   \n",
       "min                           1.000000     0.000000     2.000000     1.000000   \n",
       "25%                          17.000000     1.000000     3.000000     3.000000   \n",
       "50%                          33.000000     3.000000     3.000000     3.000000   \n",
       "75%                          49.000000     3.000000     3.000000     3.000000   \n",
       "max                          64.000000     3.000000     4.000000     4.000000   \n",
       "\n",
       "       Ciencia ficción    Histórica  \n",
       "count      1807.000000  1807.000000  \n",
       "mean          2.309353     3.048700  \n",
       "std           1.242936     0.899648  \n",
       "min           0.000000     1.000000  \n",
       "25%           1.000000     3.000000  \n",
       "50%           3.000000     3.000000  \n",
       "75%           3.000000     4.000000  \n",
       "max           4.000000     5.000000  "
      ]
     },
     "execution_count": 4,
     "metadata": {},
     "output_type": "execute_result"
    }
   ],
   "source": [
    "peliculas_df.describe()"
   ]
  },
  {
   "cell_type": "code",
   "execution_count": 8,
   "metadata": {},
   "outputs": [
    {
     "data": {
      "image/png": "[encoded data removed]",
      "text/plain": [
       "<Figure size 1000x1000 with 9 Axes>"
      ]
     },
     "metadata": {},
     "output_type": "display_data"
    }
   ],
   "source": [
    "_ = peliculas_df.hist(figsize=(10,10))"
   ]
  },
  {
   "cell_type": "markdown",
   "metadata": {},
   "source": [
    "- Número de valores nulos\n",
    "\n",
    "<font color='gray'>*Number of null values*</font>"
   ]
  },
  {
   "cell_type": "code",
   "execution_count": 3,
   "metadata": {},
   "outputs": [
    {
     "data": {
      "text/plain": [
       "#edad                              0\n",
       "años estudio                       0\n",
       "ciudad residencia                  0\n",
       "no. peliculas vistas año pasado    0\n",
       "Acción                             0\n",
       "Drama                              0\n",
       "Romance                            0\n",
       "Ciencia ficción                    0\n",
       "Histórica                          0\n",
       "dtype: int64"
      ]
     },
     "execution_count": 3,
     "metadata": {},
     "output_type": "execute_result"
    }
   ],
   "source": [
    "# Número de NA\n",
    "peliculas_df.isna().sum()"
   ]
  },
  {
   "cell_type": "markdown",
   "metadata": {},
   "source": [
    "- Conclusión\n",
    "\n",
    "*Conclusion*"
   ]
  },
  {
   "cell_type": "markdown",
   "metadata": {},
   "source": [
    "Parece que todas las variables predictoras se distribuyen uniformemente (#edad, ciudad residencia, no. peliculas vistas año pasado) excepto 'años estudio' que parece acercarse a una *normal*. En cuanto a las variables de respuesta, tienen distintas distribuciones pero cualitativamente parecen tener una tendencia a preferir la calificación $3$. Es necesario analizar la correlación entre las variables para reducir dimensionalidad y fuentes de ruido; esto se realizará para cada uno de los modelos requeridos.\n",
    "\n",
    "\n",
    "<font color='gray'>*Every independent variable seems to be uniformly distributed (#edad, ciudad residencia, no. peliculas vistas año pasado) except for 'años estudio' which has shape closer to the one of a normal distribution. On the other hand, the dependent variables are distributed differently, but they seem to roughly tend to pile up on the $3$ value. It is necessary to analyze correlation between variables for reducing dimensionality and noise sources; that will be carried out for each of the required models.*</font>\n"
   ]
  },
  {
   "cell_type": "markdown",
   "metadata": {},
   "source": [
    "# PCA"
   ]
  },
  {
   "cell_type": "code",
   "execution_count": 9,
   "metadata": {},
   "outputs": [],
   "source": [
    "from sklearn.model_selection import train_test_split\n",
    "X = peliculas_df[peliculas_df.columns[:4]]#.values\n",
    "y = peliculas_df.drop(peliculas_df.columns[:4], axis = 1)#.values\n",
    "X_train, X_test, y_train, y_test = train_test_split(X,y,test_size=0.2,random_state=2024)"
   ]
  },
  {
   "cell_type": "code",
   "execution_count": 10,
   "metadata": {},
   "outputs": [],
   "source": [
    "# Estandarización\n",
    "# dim=4\n",
    "from sklearn.preprocessing import StandardScaler\n",
    "\n",
    "sc = StandardScaler()\n",
    "X_train_std = sc.fit_transform(X_train)\n",
    "X_test_std = sc.transform(X_test)"
   ]
  },
  {
   "cell_type": "code",
   "execution_count": 12,
   "metadata": {},
   "outputs": [
    {
     "name": "stdout",
     "output_type": "stream",
     "text": [
      "Eigenvals :  [0.9048701  0.96917876 1.08830123 1.04041999]\n"
     ]
    }
   ],
   "source": [
    "import numpy as np\n",
    "# Obtener matriz de covarianza, eigenvalores y eigenvectores\n",
    "cov_mat = np.cov(X_train_std.T)\n",
    "eigen_vals, eigen_vecs = np.linalg.eig(cov_mat)\n",
    "print('Eigenvals : ', eigen_vals)"
   ]
  },
  {
   "cell_type": "code",
   "execution_count": 14,
   "metadata": {},
   "outputs": [
    {
     "data": {
      "image/png": "[encoded data removed]",
      "text/plain": [
       "<Figure size 640x480 with 1 Axes>"
      ]
     },
     "metadata": {},
     "output_type": "display_data"
    }
   ],
   "source": [
    "import matplotlib.pyplot as plt\n",
    "# Gráfica con los aportes de cada eigenvalor\n",
    "tot = sum(eigen_vals) # Suma de eigenvals\n",
    "var_exp = [ev/tot for ev in sorted(eigen_vals, reverse = True)] # Luego se ordenan descendente, y se dividen entre el total\n",
    "cum_var_exp = np.cumsum(var_exp)\n",
    "# Gráfica\n",
    "plt.bar(range(1,5), var_exp, label = 'varianza individual', align = 'center')\n",
    "plt.step(range(1,5), cum_var_exp, where = 'mid', label = 'varianza acumulativa')\n",
    "plt.legend(loc = 'best')\n",
    "plt.ylabel('Varianza')\n",
    "plt.show()"
   ]
  },
  {
   "cell_type": "markdown",
   "metadata": {},
   "source": [
    "Todas las variables tienen una comparable varianza individual, por lo que una mejor predicción se daría considerando las 4 variables. Se podría hacer mediante un arbol de decisión, pero debido a las limitaciones en las instrucciones, se optará por un enfoque más superficial.\n",
    "\n",
    "<font color='gray'>*Every variable has comparable individual variance, so the best prediction should be considering the all 4 variables. A decision tree may be used for that matter, but a shallower approach will be preferred due to the limitations in the instructions.*</font>"
   ]
  }
 ],
 "metadata": {
  "kernelspec": {
   "display_name": "Python 3",
   "language": "python",
   "name": "python3"
  },
  "language_info": {
   "codemirror_mode": {
    "name": "ipython",
    "version": 3
   },
   "file_extension": ".py",
   "mimetype": "text/x-python",
   "name": "python",
   "nbconvert_exporter": "python",
   "pygments_lexer": "ipython3",
   "version": "3.11.5"
  }
 },
 "nbformat": 4,
 "nbformat_minor": 2
}
